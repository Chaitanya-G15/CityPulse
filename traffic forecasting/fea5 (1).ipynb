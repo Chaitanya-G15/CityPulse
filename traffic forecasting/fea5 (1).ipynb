{
  "nbformat": 4,
  "nbformat_minor": 0,
  "metadata": {
    "colab": {
      "provenance": [],
      "gpuType": "T4"
    },
    "kernelspec": {
      "name": "python3",
      "display_name": "Python 3"
    },
    "language_info": {
      "name": "python"
    },
    "accelerator": "GPU"
  },
  "cells": [
    {
      "cell_type": "code",
      "source": [
        "# ==========================================\n",
        "# Traffic Forecasting with Interactive User Input\n",
        "# ==========================================\n",
        "\n",
        "import numpy as np\n",
        "import pandas as pd\n",
        "import matplotlib.pyplot as plt\n",
        "from sklearn.preprocessing import MinMaxScaler\n",
        "from tensorflow.keras.models import Sequential\n",
        "from tensorflow.keras.layers import LSTM, Dense, Dropout\n",
        "\n",
        "# -----------------------\n",
        "# 1. Simulate Traffic Data\n",
        "# -----------------------\n",
        "np.random.seed(42)\n",
        "time_steps = 2000\n",
        "traffic_data = np.sin(np.linspace(0, 50, time_steps)) + np.random.normal(0, 0.3, time_steps)\n",
        "traffic_data = traffic_data.reshape(-1, 1)\n",
        "\n",
        "# -----------------------\n",
        "# 2. Create Sliding Windows\n",
        "# -----------------------\n",
        "IN_STEPS = 24   # use last 24 timesteps\n",
        "OUT_STEPS = 6   # predict next 6 timesteps\n",
        "\n",
        "def create_windows(series, in_steps, out_steps):\n",
        "    X, y = [], []\n",
        "    for i in range(len(series) - in_steps - out_steps):\n",
        "        X.append(series[i:i+in_steps])\n",
        "        y.append(series[i+in_steps:i+in_steps+out_steps])\n",
        "    return np.array(X), np.array(y)\n",
        "\n",
        "X, y = create_windows(traffic_data, IN_STEPS, OUT_STEPS)\n",
        "\n",
        "# -----------------------\n",
        "# 3. Train/Test Split\n",
        "# -----------------------\n",
        "train_size = int(len(X) * 0.8)\n",
        "X_train, y_train = X[:train_size], y[:train_size]\n",
        "X_test, y_test   = X[train_size:], y[train_size:]\n",
        "\n",
        "# -----------------------\n",
        "# 4. Scaling\n",
        "# -----------------------\n",
        "scaler = MinMaxScaler()\n",
        "X_train_flat = X_train.reshape(-1, 1)\n",
        "X_test_flat  = X_test.reshape(-1, 1)\n",
        "\n",
        "scaler.fit(X_train_flat)\n",
        "\n",
        "X_train = scaler.transform(X_train_flat).reshape(X_train.shape)\n",
        "X_test  = scaler.transform(X_test_flat).reshape(X_test.shape)\n",
        "\n",
        "y_train = scaler.transform(y_train.reshape(-1,1)).reshape(y_train.shape)\n",
        "y_test  = scaler.transform(y_test.reshape(-1,1)).reshape(y_test.shape)\n",
        "\n",
        "# -----------------------\n",
        "# 5. Build Model\n",
        "# -----------------------\n",
        "model = Sequential([\n",
        "    LSTM(64, input_shape=(IN_STEPS, 1), return_sequences=False),\n",
        "    Dropout(0.2),\n",
        "    Dense(32, activation='relu'),\n",
        "    Dense(OUT_STEPS)\n",
        "])\n",
        "\n",
        "model.compile(optimizer='adam', loss='mse')\n",
        "model.fit(X_train, y_train.squeeze(-1), epochs=10, batch_size=32, validation_split=0.2, verbose=1)\n",
        "\n",
        "# # -----------------------\n",
        "# # 6. Prediction Function\n",
        "# # -----------------------\n",
        "# def predict_future(user_sequence):\n",
        "#     if len(user_sequence) != IN_STEPS:\n",
        "#         raise ValueError(f\"Need exactly {IN_STEPS} values, got {len(user_sequence)}\")\n",
        "\n",
        "#     # scale input\n",
        "#     user_seq_scaled = scaler.transform(np.array(user_sequence).reshape(-1,1)).reshape(1, IN_STEPS, 1)\n",
        "\n",
        "#     # predict\n",
        "#     pred_scaled = model.predict(user_seq_scaled)\n",
        "#     pred = scaler.inverse_transform(pred_scaled.reshape(-1,1)).flatten()\n",
        "\n",
        "#     return pred\n",
        "\n",
        "# # -----------------------\n",
        "# # 7. Interactive User Input\n",
        "# # -----------------------\n",
        "# # print(f\"\\nEnter {IN_STEPS} recent traffic values separated by commas.\")\n",
        "# # print(\"Or just press Enter to use dataset values.\")\n",
        "\n",
        "# # user_input = input(\"Your values: \")\n",
        "\n",
        "# # if user_input.strip() == \"\":\n",
        "# #     # fallback: use last 24 from dataset\n",
        "# #     example_input = traffic_data[-IN_STEPS:].flatten().tolist()\n",
        "# #     print(\"\\nUsing last 24 values from dataset...\")\n",
        "# # else:\n",
        "# #     try:\n",
        "# #         example_input = [float(x.strip()) for x in user_input.split(\",\")]\n",
        "# #     except:\n",
        "# #         raise ValueError(\"Invalid input. Please enter numeric values separated by commas.\")\n",
        "\n",
        "# # future_pred = predict_future(example_input)\n",
        "\n",
        "# # print(\"\\nPredicted Next 6 Timesteps:\")\n",
        "# # print(future_pred)\n",
        "\n",
        "# # Plot\n",
        "# plt.figure(figsize=(8,4))\n",
        "# plt.plot(range(IN_STEPS), example_input, label=\"Input (last 24)\")\n",
        "# plt.plot(range(IN_STEPS, IN_STEPS+OUT_STEPS), future_pred, 'r--', label=\"Predicted (next 6)\")\n",
        "# plt.legend()\n",
        "# plt.title(\"Traffic Forecast from User Input\")\n",
        "# plt.show()\n"
      ],
      "metadata": {
        "colab": {
          "base_uri": "https://localhost:8080/"
        },
        "id": "6l_A2kwHY3RU",
        "outputId": "4b62db98-e1ae-4621-9bc6-257a88bf8ebb"
      },
      "execution_count": null,
      "outputs": [
        {
          "output_type": "stream",
          "name": "stdout",
          "text": [
            "Epoch 1/10\n"
          ]
        },
        {
          "output_type": "stream",
          "name": "stderr",
          "text": [
            "/usr/local/lib/python3.12/dist-packages/keras/src/layers/rnn/rnn.py:199: UserWarning: Do not pass an `input_shape`/`input_dim` argument to a layer. When using Sequential models, prefer using an `Input(shape)` object as the first layer in the model instead.\n",
            "  super().__init__(**kwargs)\n"
          ]
        },
        {
          "output_type": "stream",
          "name": "stdout",
          "text": [
            "\u001b[1m40/40\u001b[0m \u001b[32m━━━━━━━━━━━━━━━━━━━━\u001b[0m\u001b[37m\u001b[0m \u001b[1m2s\u001b[0m 12ms/step - loss: 0.1899 - val_loss: 0.0199\n",
            "Epoch 2/10\n",
            "\u001b[1m40/40\u001b[0m \u001b[32m━━━━━━━━━━━━━━━━━━━━\u001b[0m\u001b[37m\u001b[0m \u001b[1m0s\u001b[0m 7ms/step - loss: 0.0192 - val_loss: 0.0143\n",
            "Epoch 3/10\n",
            "\u001b[1m40/40\u001b[0m \u001b[32m━━━━━━━━━━━━━━━━━━━━\u001b[0m\u001b[37m\u001b[0m \u001b[1m0s\u001b[0m 7ms/step - loss: 0.0152 - val_loss: 0.0112\n",
            "Epoch 4/10\n",
            "\u001b[1m40/40\u001b[0m \u001b[32m━━━━━━━━━━━━━━━━━━━━\u001b[0m\u001b[37m\u001b[0m \u001b[1m0s\u001b[0m 7ms/step - loss: 0.0142 - val_loss: 0.0114\n",
            "Epoch 5/10\n",
            "\u001b[1m40/40\u001b[0m \u001b[32m━━━━━━━━━━━━━━━━━━━━\u001b[0m\u001b[37m\u001b[0m \u001b[1m0s\u001b[0m 7ms/step - loss: 0.0132 - val_loss: 0.0113\n",
            "Epoch 6/10\n",
            "\u001b[1m40/40\u001b[0m \u001b[32m━━━━━━━━━━━━━━━━━━━━\u001b[0m\u001b[37m\u001b[0m \u001b[1m0s\u001b[0m 7ms/step - loss: 0.0132 - val_loss: 0.0116\n",
            "Epoch 7/10\n",
            "\u001b[1m40/40\u001b[0m \u001b[32m━━━━━━━━━━━━━━━━━━━━\u001b[0m\u001b[37m\u001b[0m \u001b[1m0s\u001b[0m 7ms/step - loss: 0.0128 - val_loss: 0.0114\n",
            "Epoch 8/10\n",
            "\u001b[1m40/40\u001b[0m \u001b[32m━━━━━━━━━━━━━━━━━━━━\u001b[0m\u001b[37m\u001b[0m \u001b[1m0s\u001b[0m 7ms/step - loss: 0.0118 - val_loss: 0.0107\n",
            "Epoch 9/10\n",
            "\u001b[1m40/40\u001b[0m \u001b[32m━━━━━━━━━━━━━━━━━━━━\u001b[0m\u001b[37m\u001b[0m \u001b[1m0s\u001b[0m 7ms/step - loss: 0.0119 - val_loss: 0.0112\n",
            "Epoch 10/10\n",
            "\u001b[1m40/40\u001b[0m \u001b[32m━━━━━━━━━━━━━━━━━━━━\u001b[0m\u001b[37m\u001b[0m \u001b[1m0s\u001b[0m 7ms/step - loss: 0.0116 - val_loss: 0.0109\n"
          ]
        },
        {
          "output_type": "execute_result",
          "data": {
            "text/plain": [
              "<keras.src.callbacks.history.History at 0x799a3d380e00>"
            ]
          },
          "metadata": {},
          "execution_count": 3
        }
      ]
    },
    {
      "cell_type": "code",
      "source": [
        "# Example routes with predicted congestion\n",
        "routes = {\n",
        "    \"Route A\": [0.6, 0.7, 0.8],  # higher traffic\n",
        "    \"Route B\": [0.2, 0.3, 0.4],  # lighter\n",
        "    \"Route C\": [0.5, 0.4, 0.6]   # moderate\n",
        "}\n",
        "\n",
        "# Compute average congestion\n",
        "avg_congestion = {r: sum(vals)/len(vals) for r, vals in routes.items()}\n",
        "\n",
        "# Best route = minimum congestion\n",
        "best_route = min(avg_congestion, key=avg_congestion.get)\n",
        "\n",
        "print(\"Best Route:\", best_route)\n",
        "\n",
        "# Suggest public transport if all routes are congested\n",
        "if avg_congestion[best_route] > 0.7:\n",
        "    print(\"Suggestion: Use Metro/Bus instead of Car 🚍\")\n",
        "else:\n",
        "    print(\"Car is fine 🚗\")"
      ],
      "metadata": {
        "colab": {
          "base_uri": "https://localhost:8080/"
        },
        "id": "CnstKs_kZqDg",
        "outputId": "1bca6b5e-2ddc-4f6f-9b80-14b7b0417ebb"
      },
      "execution_count": null,
      "outputs": [
        {
          "output_type": "stream",
          "name": "stdout",
          "text": [
            "Best Route: Route B\n",
            "Car is fine 🚗\n"
          ]
        }
      ]
    },
    {
      "cell_type": "code",
      "source": [
        "import pandas as pd\n",
        "from sklearn.model_selection import train_test_split\n",
        "from sklearn.linear_model import LinearRegression\n",
        "from sklearn.preprocessing import StandardScaler\n",
        "import pickle\n",
        "\n",
        "# Save model\n",
        "with open(\"citypulse_gbr_model.pkl\", \"wb\") as f:\n",
        "    pickle.dump(model, f)\n",
        "\n",
        "# Save scaler\n",
        "with open(\"citypulse_scaler.pkl\", \"wb\") as f:\n",
        "    pickle.dump(scaler, f)\n",
        "\n",
        "print(\"✅ Model and Scaler saved successfully!\")"
      ],
      "metadata": {
        "colab": {
          "base_uri": "https://localhost:8080/"
        },
        "id": "z_hV4VifbaN9",
        "outputId": "845a8579-3814-40e9-c701-64b2ef1acf54"
      },
      "execution_count": null,
      "outputs": [
        {
          "output_type": "stream",
          "name": "stdout",
          "text": [
            "✅ Model and Scaler saved successfully!\n"
          ]
        }
      ]
    },
    {
      "cell_type": "code",
      "source": [],
      "metadata": {
        "id": "iN7B3jzsF3oM"
      },
      "execution_count": null,
      "outputs": []
    }
  ]
}